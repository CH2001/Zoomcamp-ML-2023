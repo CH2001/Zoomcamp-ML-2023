{
 "cells": [
  {
   "cell_type": "markdown",
   "id": "4163e7ad-88b4-47f0-be46-0d533c294949",
   "metadata": {},
   "source": [
    "### Question 1"
   ]
  },
  {
   "cell_type": "code",
   "execution_count": 1,
   "id": "12fd7b48-4179-4d8a-b2fa-d567a53e4ff0",
   "metadata": {},
   "outputs": [
    {
     "name": "stdout",
     "output_type": "stream",
     "text": [
      "Client:\n",
      " Cloud integration: v1.0.35+desktop.5\n",
      " Version:           24.0.6\n",
      " API version:       1.43\n",
      " Go version:        go1.20.7\n",
      " Git commit:        ed223bc\n",
      " Built:             Mon Sep  4 12:32:48 2023\n",
      " OS/Arch:           windows/amd64\n",
      " Context:           default\n",
      "\n",
      "Server: Docker Desktop 4.25.2 (129061)\n",
      " Engine:\n",
      "  Version:          24.0.6\n",
      "  API version:      1.43 (minimum version 1.12)\n",
      "  Go version:       go1.20.7\n",
      "  Git commit:       1a79695\n",
      "  Built:            Mon Sep  4 12:32:16 2023\n",
      "  OS/Arch:          linux/amd64\n",
      "  Experimental:     false\n",
      " containerd:\n",
      "  Version:          1.6.22\n",
      "  GitCommit:        8165feabfdfe38c65b599c4993d227328c231fca\n",
      " runc:\n",
      "  Version:          1.1.8\n",
      "  GitCommit:        v1.1.8-0-g82f18fe\n",
      " docker-init:\n",
      "  Version:          0.19.0\n",
      "  GitCommit:        de40ad0\n"
     ]
    }
   ],
   "source": [
    "!docker version"
   ]
  },
  {
   "cell_type": "code",
   "execution_count": 2,
   "id": "ed8de2d3-8302-4002-9842-6669a831a2cc",
   "metadata": {},
   "outputs": [
    {
     "name": "stdout",
     "output_type": "stream",
     "text": [
      "hw10: Pulling from svizor/zoomcamp-model"
     ]
    },
    {
     "name": "stderr",
     "output_type": "stream",
     "text": [
      "\n",
      "What's Next?\n",
      "  View a summary of image vulnerabilities and recommendations â†’ docker scout quickview svizor/zoomcamp-model:hw10\n"
     ]
    },
    {
     "name": "stdout",
     "output_type": "stream",
     "text": [
      "\n",
      "Digest: sha256:1f02558d1aa1c26ebc2660d736e650cb93578af1f630c6d229325df4618d51a6\n",
      "Status: Image is up to date for svizor/zoomcamp-model:hw10\n",
      "docker.io/svizor/zoomcamp-model:hw10\n"
     ]
    }
   ],
   "source": [
    "!docker pull svizor/zoomcamp-model:hw10"
   ]
  },
  {
   "cell_type": "code",
   "execution_count": 3,
   "id": "7dd68c66-b2f1-4cc1-98df-a41155a6ea61",
   "metadata": {},
   "outputs": [],
   "source": [
    "#!docker run -it --rm -p 9696:9696 svizor/zoomcamp-model:hw10"
   ]
  },
  {
   "attachments": {
    "3ee72cbb-5b7d-4c06-965c-a02acabfac75.png": {
     "image/png": "[encoded data removed]"
    }
   },
   "cell_type": "markdown",
   "id": "3ed5a6e5-9e2e-49c9-9076-87458ed32c22",
   "metadata": {},
   "source": [
    "![image.png](attachment:3ee72cbb-5b7d-4c06-965c-a02acabfac75.png)"
   ]
  },
  {
   "cell_type": "code",
   "execution_count": 4,
   "id": "f0a65af3-c16d-4c1a-a3be-f796eff06766",
   "metadata": {},
   "outputs": [
    {
     "name": "stdout",
     "output_type": "stream",
     "text": [
      "{'get_credit': True, 'get_credit_probability': 0.726936946355423}\n"
     ]
    }
   ],
   "source": [
    "!python q6_test.py"
   ]
  },
  {
   "cell_type": "markdown",
   "id": "3414c40a-94e5-4b4f-85f6-f97137e76cb4",
   "metadata": {},
   "source": [
    "### Question 2"
   ]
  },
  {
   "cell_type": "code",
   "execution_count": 5,
   "id": "f01547ee-0f8d-4bb9-b6e0-1e99e0a286e2",
   "metadata": {},
   "outputs": [
    {
     "name": "stdout",
     "output_type": "stream",
     "text": [
      "kind version 0.20.0\n"
     ]
    }
   ],
   "source": [
    "!kind --version"
   ]
  },
  {
   "cell_type": "code",
   "execution_count": 6,
   "id": "32f0005a-73e6-49e7-83d5-cd5623eb73b8",
   "metadata": {},
   "outputs": [
    {
     "name": "stderr",
     "output_type": "stream",
     "text": [
      "ERROR: failed to create cluster: node(s) already exist for a cluster with the name \"kind\"\n"
     ]
    }
   ],
   "source": [
    "!kind create cluster"
   ]
  },
  {
   "cell_type": "code",
   "execution_count": 7,
   "id": "f51da17d-525e-4a56-9cc9-34522f2472f8",
   "metadata": {},
   "outputs": [
    {
     "name": "stdout",
     "output_type": "stream",
     "text": [
      "Kubernetes control plane is running at https://127.0.0.1:64499\n",
      "CoreDNS is running at https://127.0.0.1:64499/api/v1/namespaces/kube-system/services/kube-dns:dns/proxy\n",
      "\n",
      "To further debug and diagnose cluster problems, use 'kubectl cluster-info dump'.\n"
     ]
    }
   ],
   "source": [
    "!kubectl cluster-info"
   ]
  },
  {
   "cell_type": "markdown",
   "id": "d82d0efd-25e0-4daa-be73-1b782356b7df",
   "metadata": {},
   "source": [
    "### Question 3"
   ]
  },
  {
   "cell_type": "code",
   "execution_count": 8,
   "id": "145b3201-64ef-46f6-beb9-1f5145a7f14f",
   "metadata": {},
   "outputs": [
    {
     "name": "stdout",
     "output_type": "stream",
     "text": [
      "NAME             TYPE           CLUSTER-IP    EXTERNAL-IP   PORT(S)        AGE\n",
      "credit-service   LoadBalancer   10.96.55.31   <pending>     80:31887/TCP   110m\n",
      "kubernetes       ClusterIP      10.96.0.1     <none>        443/TCP        166m\n"
     ]
    }
   ],
   "source": [
    "!kubectl get services"
   ]
  },
  {
   "cell_type": "markdown",
   "id": "17b6d941-0da7-4fa1-8531-541d07af14f2",
   "metadata": {},
   "source": [
    "### Question 4"
   ]
  },
  {
   "cell_type": "markdown",
   "id": "9d0cd3f7-94cc-4b27-a24a-d0dce5108b57",
   "metadata": {},
   "source": [
    "To be able to use the docker image we previously created (zoomcamp-model:hw10), we need to register it with kind.\n",
    "\n",
    "What's the command we need to run for that?\n",
    "\n",
    "kind load docker-image"
   ]
  },
  {
   "cell_type": "markdown",
   "id": "120f0a7a-b4ed-4eb9-8a55-7863ce0ed71d",
   "metadata": {},
   "source": [
    "### Question 5"
   ]
  },
  {
   "cell_type": "code",
   "execution_count": 9,
   "id": "652f9e33-3554-455d-a65d-2347a4cb6be3",
   "metadata": {},
   "outputs": [
    {
     "name": "stdout",
     "output_type": "stream",
     "text": [
      "deployment.apps/credit configured\n"
     ]
    }
   ],
   "source": [
    "!kubectl apply -f deployment.yaml"
   ]
  },
  {
   "cell_type": "code",
   "execution_count": 10,
   "id": "7dda38bd-c0ba-41cf-b5e3-2782bd98bd80",
   "metadata": {},
   "outputs": [
    {
     "name": "stdout",
     "output_type": "stream",
     "text": [
      "NAME                      READY   STATUS             RESTARTS   AGE\n",
      "credit-65ccb78b69-mx8b9   0/1     ImagePullBackOff   0          111m\n",
      "credit-855d87bb9c-qnxww   0/1     Pending            0          0s\n"
     ]
    }
   ],
   "source": [
    "!kubectl get pods"
   ]
  },
  {
   "cell_type": "markdown",
   "id": "d406ed63-5d5a-4902-94ee-a954084fc08d",
   "metadata": {},
   "source": [
    "### Question 6"
   ]
  },
  {
   "cell_type": "code",
   "execution_count": 11,
   "id": "a70bbfbb-fb04-44a6-90a6-106f0a864388",
   "metadata": {},
   "outputs": [
    {
     "name": "stdout",
     "output_type": "stream",
     "text": [
      "service/credit-service unchanged\n"
     ]
    }
   ],
   "source": [
    "!kubectl apply -f service.yaml"
   ]
  },
  {
   "cell_type": "code",
   "execution_count": 12,
   "id": "0c206843-dc3d-42d5-a0e5-4b0c976089d4",
   "metadata": {},
   "outputs": [
    {
     "name": "stdout",
     "output_type": "stream",
     "text": [
      "NAME             TYPE           CLUSTER-IP    EXTERNAL-IP   PORT(S)        AGE\n",
      "credit-service   LoadBalancer   10.96.55.31   <pending>     80:31887/TCP   110m\n",
      "kubernetes       ClusterIP      10.96.0.1     <none>        443/TCP        166m\n"
     ]
    }
   ],
   "source": [
    "!kubectl get services"
   ]
  },
  {
   "cell_type": "code",
   "execution_count": 13,
   "id": "488115cd-a7d1-4dea-9996-04c865d43d3c",
   "metadata": {},
   "outputs": [
    {
     "name": "stderr",
     "output_type": "stream",
     "text": [
      "error: unable to forward port because pod is not running. Current status=Pending\n"
     ]
    }
   ],
   "source": [
    "!kubectl port-forward service/credit-service 9696:80"
   ]
  },
  {
   "cell_type": "code",
   "execution_count": 14,
   "id": "55e0a120-f5c0-45dc-9a0c-740b8140b3d4",
   "metadata": {},
   "outputs": [
    {
     "name": "stdout",
     "output_type": "stream",
     "text": [
      "horizontalpodautoscaler.autoscaling \"credit-hpa\" deleted\n",
      "horizontalpodautoscaler.autoscaling/credit-hpa autoscaled\n"
     ]
    }
   ],
   "source": [
    "!kubectl delete hpa credit-hpa\n",
    "!kubectl autoscale deployment credit --name credit-hpa --cpu-percent=20 --min=1 --max=3"
   ]
  },
  {
   "cell_type": "code",
   "execution_count": 15,
   "id": "f4affacf-13e5-4590-a85b-c4c360a998e2",
   "metadata": {},
   "outputs": [
    {
     "name": "stdout",
     "output_type": "stream",
     "text": [
      "NAME         REFERENCE           TARGETS         MINPODS   MAXPODS   REPLICAS   AGE\n",
      "credit-hpa   Deployment/credit   <unknown>/20%   1         3         0          0s\n"
     ]
    }
   ],
   "source": [
    "!kubectl get hpa"
   ]
  }
 ],
 "metadata": {
  "kernelspec": {
   "display_name": "Python 3 (ipykernel)",
   "language": "python",
   "name": "python3"
  },
  "language_info": {
   "codemirror_mode": {
    "name": "ipython",
    "version": 3
   },
   "file_extension": ".py",
   "mimetype": "text/x-python",
   "name": "python",
   "nbconvert_exporter": "python",
   "pygments_lexer": "ipython3",
   "version": "3.9.12"
  }
 },
 "nbformat": 4,
 "nbformat_minor": 5
}
