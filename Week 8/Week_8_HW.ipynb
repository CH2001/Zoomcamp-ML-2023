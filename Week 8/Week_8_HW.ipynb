{
 "cells": [
  {
   "cell_type": "code",
   "execution_count": 5,
   "id": "16540821-d773-4ee5-8a54-ac503e74a254",
   "metadata": {},
   "outputs": [],
   "source": [
    "import numpy as np\n",
    "from keras.models import Sequential\n",
    "from keras.layers import Conv2D, MaxPooling2D, Flatten, Dense\n",
    "from keras.optimizers import SGD\n",
    "from keras.preprocessing.image import ImageDataGenerator"
   ]
  },
  {
   "cell_type": "markdown",
   "id": "50446e0f-1dee-4478-bf2c-ea785966df2b",
   "metadata": {},
   "source": [
    "### Question 1 & 2"
   ]
  },
  {
   "cell_type": "code",
   "execution_count": 2,
   "id": "397137f2-d4f9-4189-bc3a-bf703145e4ce",
   "metadata": {},
   "outputs": [
    {
     "name": "stdout",
     "output_type": "stream",
     "text": [
      "Model: \"sequential\"\n",
      "_________________________________________________________________\n",
      " Layer (type)                Output Shape              Param #   \n",
      "=================================================================\n",
      " conv2d (Conv2D)             (None, 148, 148, 32)      896       \n",
      "                                                                 \n",
      " max_pooling2d (MaxPooling2D  (None, 74, 74, 32)       0         \n",
      " )                                                               \n",
      "                                                                 \n",
      " flatten (Flatten)           (None, 175232)            0         \n",
      "                                                                 \n",
      " dense (Dense)               (None, 64)                11214912  \n",
      "                                                                 \n",
      " dense_1 (Dense)             (None, 1)                 65        \n",
      "                                                                 \n",
      "=================================================================\n",
      "Total params: 11,215,873\n",
      "Trainable params: 11,215,873\n",
      "Non-trainable params: 0\n",
      "_________________________________________________________________\n"
     ]
    }
   ],
   "source": [
    "model = Sequential()\n",
    "\n",
    "model.add(Conv2D(32, (3, 3), input_shape=(150, 150, 3), activation='relu'))\n",
    "model.add(MaxPooling2D(pool_size=(2, 2)))\n",
    "model.add(Flatten())\n",
    "model.add(Dense(64, activation='relu'))\n",
    "model.add(Dense(1, activation='sigmoid'))\n",
    "\n",
    "optimizer = SGD(learning_rate=0.002, momentum=0.8)\n",
    "\n",
    "model.compile(optimizer=optimizer, loss='binary_crossentropy', metrics=['accuracy'])\n",
    "\n",
    "model.summary()\n"
   ]
  },
  {
   "cell_type": "markdown",
   "id": "b4fac168-11f0-4413-9dd9-33c26925f3ff",
   "metadata": {},
   "source": [
    "### Question 3"
   ]
  },
  {
   "cell_type": "code",
   "execution_count": 3,
   "id": "cc9590eb-d162-4937-917b-a310114fc15f",
   "metadata": {},
   "outputs": [
    {
     "name": "stdout",
     "output_type": "stream",
     "text": [
      "Found 4595 images belonging to 2 classes.\n",
      "Found 4595 images belonging to 2 classes.\n",
      "Epoch 1/10\n",
      "230/230 [==============================] - 68s 294ms/step - loss: 0.5206 - accuracy: 0.7987 - val_loss: 0.5035 - val_accuracy: 0.8002\n",
      "Epoch 2/10\n",
      "230/230 [==============================] - 63s 275ms/step - loss: 0.5088 - accuracy: 0.8002 - val_loss: 0.4987 - val_accuracy: 0.8002\n",
      "Epoch 3/10\n",
      "230/230 [==============================] - 71s 311ms/step - loss: 0.5042 - accuracy: 0.8002 - val_loss: 0.5016 - val_accuracy: 0.8002\n",
      "Epoch 4/10\n",
      "230/230 [==============================] - 69s 299ms/step - loss: 0.4984 - accuracy: 0.8002 - val_loss: 0.4876 - val_accuracy: 0.8002\n",
      "Epoch 5/10\n",
      "230/230 [==============================] - 59s 256ms/step - loss: 0.4927 - accuracy: 0.8002 - val_loss: 0.4996 - val_accuracy: 0.8002\n",
      "Epoch 6/10\n",
      "230/230 [==============================] - 58s 254ms/step - loss: 0.4885 - accuracy: 0.8002 - val_loss: 0.4786 - val_accuracy: 0.8002\n",
      "Epoch 7/10\n",
      "230/230 [==============================] - 59s 256ms/step - loss: 0.4874 - accuracy: 0.8002 - val_loss: 0.4876 - val_accuracy: 0.8002\n",
      "Epoch 8/10\n",
      "230/230 [==============================] - 58s 254ms/step - loss: 0.4791 - accuracy: 0.8002 - val_loss: 0.4764 - val_accuracy: 0.8002\n",
      "Epoch 9/10\n",
      "230/230 [==============================] - 59s 257ms/step - loss: 0.4737 - accuracy: 0.8002 - val_loss: 0.4600 - val_accuracy: 0.8002\n",
      "Epoch 10/10\n",
      "230/230 [==============================] - 60s 259ms/step - loss: 0.4668 - accuracy: 0.8000 - val_loss: 0.4539 - val_accuracy: 0.8007\n"
     ]
    }
   ],
   "source": [
    "train_datagen = ImageDataGenerator(rescale=1./255)\n",
    "test_datagen = ImageDataGenerator(rescale=1./255)\n",
    "\n",
    "train_generator = train_datagen.flow_from_directory(\n",
    "    'data',\n",
    "    target_size=(150, 150),\n",
    "    batch_size=20,\n",
    "    class_mode='binary',  # Set this for binary classification\n",
    "    shuffle=True\n",
    ")\n",
    "\n",
    "test_generator = test_datagen.flow_from_directory(\n",
    "    'data',\n",
    "    target_size=(150, 150),\n",
    "    batch_size=20,\n",
    "    class_mode='binary',  # Set this for binary classification\n",
    "    shuffle=True\n",
    ")\n",
    "\n",
    "model_history = model.fit(\n",
    "    train_generator,\n",
    "    epochs=10,\n",
    "    validation_data=test_generator\n",
    ")\n"
   ]
  },
  {
   "cell_type": "code",
   "execution_count": 18,
   "id": "50de7e4a-b5ac-44b4-b275-38c297d95ec5",
   "metadata": {},
   "outputs": [
    {
     "name": "stdout",
     "output_type": "stream",
     "text": [
      "Median Training Accuracy: 0.80\n"
     ]
    }
   ],
   "source": [
    "median_training_accuracy = np.median(model_history.history['accuracy'])\n",
    "\n",
    "print(f\"Median Training Accuracy: {median_training_accuracy:.2f}\")"
   ]
  },
  {
   "cell_type": "markdown",
   "id": "f36b640a-c83d-4f36-8ca1-c008b0616b40",
   "metadata": {},
   "source": [
    "### Question 4"
   ]
  },
  {
   "cell_type": "code",
   "execution_count": 17,
   "id": "bf695e8c-e01b-4c9c-858f-8cd34e9a8d00",
   "metadata": {},
   "outputs": [
    {
     "name": "stdout",
     "output_type": "stream",
     "text": [
      "Standard Deviation of Training Loss: 0.016\n"
     ]
    }
   ],
   "source": [
    "std_dev_training_loss = np.std(model_history.history['loss'])\n",
    "\n",
    "print(f\"Standard Deviation of Training Loss: {std_dev_training_loss:.3f}\")"
   ]
  },
  {
   "cell_type": "code",
   "execution_count": 11,
   "id": "08bede00-2514-4119-80fc-0815407dbef0",
   "metadata": {},
   "outputs": [
    {
     "name": "stdout",
     "output_type": "stream",
     "text": [
      "Found 4595 images belonging to 2 classes.\n",
      "Epoch 1/10\n",
      "230/230 [==============================] - 72s 314ms/step - loss: 0.4960 - accuracy: 0.8002 - val_loss: 0.4776 - val_accuracy: 0.8004\n",
      "Epoch 2/10\n",
      "230/230 [==============================] - 83s 359ms/step - loss: 0.4982 - accuracy: 0.8004 - val_loss: 0.4746 - val_accuracy: 0.8007\n",
      "Epoch 3/10\n",
      "230/230 [==============================] - 79s 341ms/step - loss: 0.5003 - accuracy: 0.8002 - val_loss: 0.4801 - val_accuracy: 0.8002\n",
      "Epoch 4/10\n",
      "230/230 [==============================] - 79s 344ms/step - loss: 0.4985 - accuracy: 0.8007 - val_loss: 0.4776 - val_accuracy: 0.8002\n",
      "Epoch 5/10\n",
      "230/230 [==============================] - 93s 406ms/step - loss: 0.5003 - accuracy: 0.8002 - val_loss: 0.4721 - val_accuracy: 0.8007\n",
      "Epoch 6/10\n",
      "230/230 [==============================] - 89s 388ms/step - loss: 0.4974 - accuracy: 0.8004 - val_loss: 0.4745 - val_accuracy: 0.8007\n",
      "Epoch 7/10\n",
      "230/230 [==============================] - 95s 415ms/step - loss: 0.4973 - accuracy: 0.8004 - val_loss: 0.4709 - val_accuracy: 0.8004\n",
      "Epoch 8/10\n",
      "230/230 [==============================] - 119s 519ms/step - loss: 0.4966 - accuracy: 0.8004 - val_loss: 0.4773 - val_accuracy: 0.8007\n",
      "Epoch 9/10\n",
      "230/230 [==============================] - 129s 559ms/step - loss: 0.4970 - accuracy: 0.8004 - val_loss: 0.4737 - val_accuracy: 0.8007\n",
      "Epoch 10/10\n",
      "230/230 [==============================] - 142s 619ms/step - loss: 0.4959 - accuracy: 0.8000 - val_loss: 0.4773 - val_accuracy: 0.8007\n"
     ]
    }
   ],
   "source": [
    "train_datagen_augmented = ImageDataGenerator(\n",
    "    rescale=1./255,\n",
    "    rotation_range=50,\n",
    "    width_shift_range=0.1,\n",
    "    height_shift_range=0.1,\n",
    "    zoom_range=0.1,\n",
    "    horizontal_flip=True,\n",
    "    fill_mode='nearest'\n",
    ")\n",
    "\n",
    "train_generator_augmented = train_datagen_augmented.flow_from_directory(\n",
    "    'data',\n",
    "    target_size=(150, 150),\n",
    "    batch_size=20,\n",
    "    class_mode='binary',\n",
    "    shuffle=True\n",
    ")\n",
    "\n",
    "history_augmented = model.fit(\n",
    "    train_generator_augmented,\n",
    "    epochs=10,\n",
    "    validation_data=test_generator\n",
    ")"
   ]
  },
  {
   "cell_type": "markdown",
   "id": "ee300dd7-eb04-4680-8381-d2850daae483",
   "metadata": {},
   "source": [
    "### Question 5"
   ]
  },
  {
   "cell_type": "code",
   "execution_count": 14,
   "id": "dd5b115c-7a25-4001-a4b9-e560076a5a0a",
   "metadata": {},
   "outputs": [
    {
     "name": "stdout",
     "output_type": "stream",
     "text": [
      "Mean Test Loss with Augmentations: 0.48\n"
     ]
    }
   ],
   "source": [
    "mean_test_loss_augmented = np.mean(history_augmented.history['val_loss'])\n",
    "\n",
    "print(f\"Mean Test Loss with Augmentations: {mean_test_loss_augmented:.2f}\")"
   ]
  },
  {
   "cell_type": "markdown",
   "id": "9644c946-93ce-48b9-9701-ade34a1b3e68",
   "metadata": {},
   "source": [
    "### Question 6"
   ]
  },
  {
   "cell_type": "code",
   "execution_count": 16,
   "id": "d7e9ce77-3bc5-478c-8a80-79b434ee35cd",
   "metadata": {},
   "outputs": [
    {
     "name": "stdout",
     "output_type": "stream",
     "text": [
      "Average Test Accuracy for the Last 5 Epochs with Augmentations: 0.80\n"
     ]
    }
   ],
   "source": [
    "average_test_accuracy_last_6_epochs = np.mean(history_augmented.history['val_accuracy'][-6:])\n",
    "\n",
    "print(f\"Average Test Accuracy for the Last 5 Epochs with Augmentations: {average_test_accuracy_last_6_epochs:.2f}\")\n"
   ]
  },
  {
   "cell_type": "code",
   "execution_count": null,
   "id": "16659ee8-eeeb-4c90-a157-1ff7dedcc828",
   "metadata": {},
   "outputs": [],
   "source": []
  }
 ],
 "metadata": {
  "kernelspec": {
   "display_name": "Python 3 (ipykernel)",
   "language": "python",
   "name": "python3"
  },
  "language_info": {
   "codemirror_mode": {
    "name": "ipython",
    "version": 3
   },
   "file_extension": ".py",
   "mimetype": "text/x-python",
   "name": "python",
   "nbconvert_exporter": "python",
   "pygments_lexer": "ipython3",
   "version": "3.9.12"
  }
 },
 "nbformat": 4,
 "nbformat_minor": 5
}
