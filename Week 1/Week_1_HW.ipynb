{
  "nbformat": 4,
  "nbformat_minor": 0,
  "metadata": {
    "colab": {
      "provenance": []
    },
    "kernelspec": {
      "name": "python3",
      "display_name": "Python 3"
    },
    "language_info": {
      "name": "python"
    }
  },
  "cells": [
    {
      "cell_type": "markdown",
      "source": [
        "##ML Zoomcamp Week 1"
      ],
      "metadata": {
        "id": "Qa1_wwphM44W"
      }
    },
    {
      "cell_type": "markdown",
      "source": [
        "###Question 1"
      ],
      "metadata": {
        "id": "PNiOg6qL776N"
      }
    },
    {
      "cell_type": "code",
      "execution_count": 20,
      "metadata": {
        "colab": {
          "base_uri": "https://localhost:8080/"
        },
        "id": "ov2YFS9m7YxG",
        "outputId": "26b62654-04dc-4cb1-ef18-9e2f87f7ca9c"
      },
      "outputs": [
        {
          "output_type": "stream",
          "name": "stdout",
          "text": [
            "Pandas version: 1.5.3\n"
          ]
        }
      ],
      "source": [
        "import pandas as pd\n",
        "import numpy as np\n",
        "\n",
        "print(f\"Pandas version: {pd.__version__}\")"
      ]
    },
    {
      "cell_type": "markdown",
      "source": [
        "###Question 2"
      ],
      "metadata": {
        "id": "rE-jSvMF8DGS"
      }
    },
    {
      "cell_type": "code",
      "source": [
        "!wget https://raw.githubusercontent.com/alexeygrigorev/datasets/master/housing.csv\n",
        "\n",
        "df = pd.read_csv(\"housing.csv\")\n",
        "\n",
        "print(f\"No. columns: {df.shape[1]}\")"
      ],
      "metadata": {
        "colab": {
          "base_uri": "https://localhost:8080/"
        },
        "id": "o6TWT5kl7hiH",
        "outputId": "b7be64af-f1c5-495a-9ca7-30fc4660f496"
      },
      "execution_count": 2,
      "outputs": [
        {
          "output_type": "stream",
          "name": "stdout",
          "text": [
            "--2023-09-18 07:17:24--  https://raw.githubusercontent.com/alexeygrigorev/datasets/master/housing.csv\n",
            "Resolving raw.githubusercontent.com (raw.githubusercontent.com)... 185.199.111.133, 185.199.109.133, 185.199.108.133, ...\n",
            "Connecting to raw.githubusercontent.com (raw.githubusercontent.com)|185.199.111.133|:443... connected.\n",
            "HTTP request sent, awaiting response... 200 OK\n",
            "Length: 1423529 (1.4M) [text/plain]\n",
            "Saving to: ‘housing.csv.8’\n",
            "\n",
            "housing.csv.8       100%[===================>]   1.36M  --.-KB/s    in 0.04s   \n",
            "\n",
            "2023-09-18 07:17:24 (30.8 MB/s) - ‘housing.csv.8’ saved [1423529/1423529]\n",
            "\n",
            "No. columns: 10\n"
          ]
        }
      ]
    },
    {
      "cell_type": "markdown",
      "source": [
        "###Question 3"
      ],
      "metadata": {
        "id": "LMVFwCOn8E8g"
      }
    },
    {
      "cell_type": "code",
      "source": [
        "missing_values_count = df.isna().sum()\n",
        "print(f\"Na count for columns \\n{missing_values_count[missing_values_count > 0].to_string(dtype=False)}\")"
      ],
      "metadata": {
        "colab": {
          "base_uri": "https://localhost:8080/"
        },
        "id": "QvKuWL2u9Fqd",
        "outputId": "8762439f-bac6-4294-e301-28387528c824"
      },
      "execution_count": 3,
      "outputs": [
        {
          "output_type": "stream",
          "name": "stdout",
          "text": [
            "Na count for columns \n",
            "total_bedrooms    207\n"
          ]
        }
      ]
    },
    {
      "cell_type": "markdown",
      "source": [
        "###Question 4"
      ],
      "metadata": {
        "id": "fopSfsJ--d0_"
      }
    },
    {
      "cell_type": "code",
      "source": [
        "print(f\"No. of unique values for ocean_proximity: {df['ocean_proximity'].nunique()}\\n\\\n",
        "Unique values: {df['ocean_proximity'].unique()}\")"
      ],
      "metadata": {
        "colab": {
          "base_uri": "https://localhost:8080/"
        },
        "id": "l16dzhKo92c4",
        "outputId": "eca693d2-e9d0-49d1-b610-57fc0107f5ae"
      },
      "execution_count": 4,
      "outputs": [
        {
          "output_type": "stream",
          "name": "stdout",
          "text": [
            "No. of unique values for ocean_proximity: 5\n",
            "Unique values: ['NEAR BAY' '<1H OCEAN' 'INLAND' 'NEAR OCEAN' 'ISLAND']\n"
          ]
        }
      ]
    },
    {
      "cell_type": "markdown",
      "source": [
        "###Question 5"
      ],
      "metadata": {
        "id": "T6yCPp2v-gx4"
      }
    },
    {
      "cell_type": "code",
      "source": [
        "df_median = df[df[\"ocean_proximity\"] == \"NEAR BAY\"]\n",
        "\n",
        "print(f\"Median house value for houses located near the bay {df_median['median_house_value'].mean():.2f}\")"
      ],
      "metadata": {
        "colab": {
          "base_uri": "https://localhost:8080/"
        },
        "id": "9MRmOuB3_XSj",
        "outputId": "4ae2b3b8-a6ff-47e1-d128-64ff0b56f8f8"
      },
      "execution_count": 5,
      "outputs": [
        {
          "output_type": "stream",
          "name": "stdout",
          "text": [
            "Median house value for houses located near the bay 259212.31\n"
          ]
        }
      ]
    },
    {
      "cell_type": "markdown",
      "source": [
        "###Question 6"
      ],
      "metadata": {
        "id": "2BUlKGv5_74S"
      }
    },
    {
      "cell_type": "code",
      "source": [
        "initial_average = df[\"total_bedrooms\"].mean()\n",
        "df_na = df.copy()\n",
        "df_na[\"total_bedrooms\"].fillna(initial_average, inplace=True)\n",
        "\n",
        "print(f\"Initial Average of total_bedrooms: {initial_average:.2f}\\n\\\n",
        "Average of total_bedrooms after fillna {df_na['total_bedrooms'].mean():.2f}\")"
      ],
      "metadata": {
        "colab": {
          "base_uri": "https://localhost:8080/"
        },
        "id": "oyLitBqCAtLC",
        "outputId": "cd6ef7b5-e9dd-467c-e895-97a40fbf0186"
      },
      "execution_count": 32,
      "outputs": [
        {
          "output_type": "stream",
          "name": "stdout",
          "text": [
            "Initial Average of total_bedrooms: 537.87\n",
            "Average of total_bedrooms after fillna 537.87\n"
          ]
        }
      ]
    },
    {
      "cell_type": "markdown",
      "source": [
        "###Question 7"
      ],
      "metadata": {
        "id": "Kx04mmSMJbqS"
      }
    },
    {
      "cell_type": "code",
      "source": [
        "X = df[df[\"ocean_proximity\"] == \"ISLAND\"][[\"housing_median_age\", \"total_rooms\", \"total_bedrooms\"]].to_numpy()\n",
        "y = [950, 1300, 800, 1000, 1300]\n",
        "XTX_inv = np.linalg.inv(np.dot(X.T, X))\n",
        "\n",
        "w = np.dot(np.dot(XTX_inv, X.T), y)\n",
        "print(f\"Value of last element in w: {w[2]:.4f}\")"
      ],
      "metadata": {
        "colab": {
          "base_uri": "https://localhost:8080/"
        },
        "id": "kcqQKw5AJ0cs",
        "outputId": "ed8914a3-5ecb-4dec-e6d3-c9948e554da4"
      },
      "execution_count": 31,
      "outputs": [
        {
          "output_type": "stream",
          "name": "stdout",
          "text": [
            "Value of last element in w: 5.6992\n"
          ]
        }
      ]
    }
  ]
}