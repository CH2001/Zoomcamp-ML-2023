{
 "cells": [
  {
   "cell_type": "code",
   "execution_count": 63,
   "metadata": {},
   "outputs": [],
   "source": [
    "#!pip install pipenv\n",
    "import pipenv \n",
    "import subprocess\n",
    "import json\n",
    "import pickle\n",
    "import requests"
   ]
  },
  {
   "cell_type": "markdown",
   "metadata": {},
   "source": [
    "### Question 1"
   ]
  },
  {
   "cell_type": "code",
   "execution_count": 4,
   "metadata": {},
   "outputs": [
    {
     "name": "stdout",
     "output_type": "stream",
     "text": [
      "Pipenv version is pipenv, version 2023.10.3\n"
     ]
    }
   ],
   "source": [
    "# Run the \"pipenv --version\" command and capture its output\n",
    "result = subprocess.run([\"pipenv\", \"--version\"], text=True, capture_output=True)\n",
    "\n",
    "# Check if the command was successful and print the output\n",
    "if result.returncode == 0:\n",
    "    print(f\"Pipenv version is {result.stdout.strip()}\")\n",
    "else:\n",
    "    print(\"Failed to determine Pipenv version.\")"
   ]
  },
  {
   "cell_type": "markdown",
   "metadata": {},
   "source": [
    "### Question 2"
   ]
  },
  {
   "cell_type": "code",
   "execution_count": 5,
   "metadata": {},
   "outputs": [
    {
     "name": "stdout",
     "output_type": "stream",
     "text": [
      "Python version:\n"
     ]
    },
    {
     "name": "stderr",
     "output_type": "stream",
     "text": [
      "Creating a Pipfile for this project...\n"
     ]
    },
    {
     "name": "stdout",
     "output_type": "stream",
     "text": [
      "Python 3.10.4\n"
     ]
    }
   ],
   "source": [
    "!pipenv --python 3.10\n",
    "\n",
    "print(\"Python version:\")\n",
    "!pipenv run python --version"
   ]
  },
  {
   "cell_type": "code",
   "execution_count": 6,
   "metadata": {},
   "outputs": [
    {
     "name": "stdout",
     "output_type": "stream",
     "text": [
      "Installing numpy...\n",
      "Resolving numpy...\n",
      "Added numpy to Pipfile's [packages] ...\n",
      "Installation Succeeded\n",
      "Installing scikit-learn==1.3.1...\n",
      "Resolving scikit-learn==1.3.1...\n",
      "Added scikit-learn to Pipfile's [packages] ...\n",
      "Installation Succeeded\n",
      "Building requirements...\n",
      "Resolving dependencies...\n",
      "Success!\n",
      "Installing dependencies from Pipfile.lock (315c02)...\n",
      "To activate this project's virtualenv, run pipenv shell.\n",
      "Alternatively, run a command inside the virtualenv with pipenv run.\n"
     ]
    },
    {
     "name": "stderr",
     "output_type": "stream",
     "text": [
      "Pipfile.lock not found, creating...\n",
      "Locking [packages] dependencies...\n",
      "Locking [dev-packages] dependencies...\n",
      "Updated Pipfile.lock (3c2ef77ecd8ae61f1492e84d3719c03d270b7cdac4fb21bbb469d81acc315c02)!\n"
     ]
    }
   ],
   "source": [
    "!pipenv install numpy scikit-learn==1.3.1"
   ]
  },
  {
   "cell_type": "code",
   "execution_count": 62,
   "metadata": {},
   "outputs": [
    {
     "name": "stdout",
     "output_type": "stream",
     "text": [
      "SHA-256 Hash: sha256:0c275a06c5190c5ce00af0acbb61c06374087949f643ef32d355ece12c4db043\n"
     ]
    }
   ],
   "source": [
    "# Load the Pipfile.lock file\n",
    "with open('Pipfile.lock', 'r') as file:\n",
    "    pipfile_data = json.load(file)\n",
    "\n",
    "# Get the SHA-256 hash and version for scikit-learn\n",
    "scikit_learn_data = pipfile_data.get('default', {}).get('scikit-learn', None)\n",
    "print(f\"SHA-256 Hash: {scikit_learn_data['hashes'][0]}\")\n"
   ]
  },
  {
   "cell_type": "markdown",
   "metadata": {},
   "source": [
    "### Question 3"
   ]
  },
  {
   "cell_type": "code",
   "execution_count": 73,
   "metadata": {},
   "outputs": [
    {
     "name": "stdout",
     "output_type": "stream",
     "text": [
      "Probability of getting a credit: 0.902\n"
     ]
    }
   ],
   "source": [
    "with open('model1.bin', 'rb') as model_file:\n",
    "    logistic_regression_model = pickle.load(model_file)\n",
    "\n",
    "with open('dv.bin', 'rb') as dv_file:\n",
    "    dict_vectorizer = pickle.load(dv_file)\n",
    "\n",
    "client_data = {\"job\": \"retired\", \"duration\": 445, \"poutcome\": \"success\"}\n",
    "\n",
    "client_data_transformed = dict_vectorizer.transform([client_data])\n",
    "\n",
    "probability = logistic_regression_model.predict_proba(client_data_transformed)\n",
    "\n",
    "print(f\"Probability of getting a credit: {probability[0][1]:.3f}\")"
   ]
  },
  {
   "cell_type": "markdown",
   "metadata": {},
   "source": [
    "### Question 4"
   ]
  },
  {
   "cell_type": "code",
   "execution_count": 79,
   "metadata": {},
   "outputs": [
    {
     "name": "stdout",
     "output_type": "stream",
     "text": [
      "Probability of getting a credit: 0.1397\n"
     ]
    }
   ],
   "source": [
    "url = \"http://localhost:8081/predict\"\n",
    "client = {\"job\": \"unknown\", \"duration\": 270, \"poutcome\": \"failure\"}\n",
    "\n",
    "response = requests.post(url, json=client).json()\n",
    "credit_approval_probability = response['probability']\n",
    "\n",
    "print(f\"Probability of getting a credit: {credit_approval_probability:.4f}\")\n"
   ]
  },
  {
   "cell_type": "markdown",
   "metadata": {},
   "source": [
    "### Question 5"
   ]
  },
  {
   "cell_type": "code",
   "execution_count": 81,
   "metadata": {},
   "outputs": [
    {
     "name": "stdout",
     "output_type": "stream",
     "text": [
      "3.10.12-slim: Pulling from svizor/zoomcamp-model\n",
      "52d2b7f179e3: Pulling fs layer\n",
      "2b8a9a2240c1: Pulling fs layer\n",
      "618a49bbc6c6: Pulling fs layer\n",
      "708d13076071: Pulling fs layer\n",
      "90b76fc2ebde: Pulling fs layer\n",
      "708d13076071: Waiting\n",
      "a7c599e7b037: Pulling fs layer\n",
      "faa7e3220190: Pulling fs layer\n",
      "a7c599e7b037: Waiting\n",
      "90b76fc2ebde: Waiting\n",
      "faa7e3220190: Waiting\n",
      "2b8a9a2240c1: Verifying Checksum\n",
      "2b8a9a2240c1: Download complete\n",
      "618a49bbc6c6: Download complete\n",
      "708d13076071: Verifying Checksum\n",
      "708d13076071: Download complete\n",
      "a7c599e7b037: Verifying Checksum\n",
      "a7c599e7b037: Download complete\n",
      "52d2b7f179e3: Verifying Checksum\n",
      "52d2b7f179e3: Download complete\n",
      "90b76fc2ebde: Verifying Checksum\n",
      "90b76fc2ebde: Download complete\n",
      "faa7e3220190: Verifying Checksum\n",
      "faa7e3220190: Download complete\n",
      "52d2b7f179e3: Pull complete\n",
      "2b8a9a2240c1: Pull complete\n",
      "618a49bbc6c6: Pull complete\n",
      "708d13076071: Pull complete\n",
      "90b76fc2ebde: Pull complete\n",
      "a7c599e7b037: Pull complete\n",
      "faa7e3220190: Pull complete\n",
      "Digest: sha256:e8441100b9d8da56344f50c673eb2daded3c61ce9565e45c3592c02f34fb3149\n",
      "Status: Downloaded newer image for svizor/zoomcamp-model:3.10.12-slim\n",
      "docker.io/svizor/zoomcamp-model:3.10.12-slim\n"
     ]
    }
   ],
   "source": [
    "!docker pull svizor/zoomcamp-model:3.10.12-slim"
   ]
  },
  {
   "cell_type": "code",
   "execution_count": 90,
   "metadata": {},
   "outputs": [
    {
     "name": "stdout",
     "output_type": "stream",
     "text": [
      "REPOSITORY              TAG            IMAGE ID       CREATED      SIZE\n",
      "svizor/zoomcamp-model   3.10.12-slim   08266c8f0c4b   5 days ago   147MB\n"
     ]
    }
   ],
   "source": [
    "!docker images --filter \"reference=svizor/zoomcamp-model\" \n"
   ]
  },
  {
   "cell_type": "code",
   "execution_count": 114,
   "metadata": {},
   "outputs": [
    {
     "name": "stdout",
     "output_type": "stream",
     "text": [
      "Installing flask...\n",
      "Resolving flask...\n",
      "Installation Succeeded\n",
      "Installing waitress...\n",
      "Resolving waitress...\n",
      "Installation Succeeded\n",
      "Installing gunicorn...\n",
      "Resolving gunicorn...\n",
      "Installation Succeeded\n",
      "Building requirements...\n",
      "Resolving dependencies...\n",
      "Success!\n",
      "Installing dependencies from Pipfile.lock (f9c3cd)...\n",
      "To activate this project's virtualenv, run pipenv shell.\n",
      "Alternatively, run a command inside the virtualenv with pipenv run.\n"
     ]
    },
    {
     "name": "stderr",
     "output_type": "stream",
     "text": [
      "Pipfile.lock (315c02) out of date, updating to (f9c3cd)...\n",
      "Locking [packages] dependencies...\n",
      "Locking [dev-packages] dependencies...\n",
      "Updated Pipfile.lock (dec27b279df2bffef9016cd9bc1d79011f3165a15d12d75ec43bf4bb27f9c3cd)!\n"
     ]
    }
   ],
   "source": [
    "!pipenv install flask waitress gunicorn"
   ]
  },
  {
   "cell_type": "code",
   "execution_count": 123,
   "metadata": {},
   "outputs": [
    {
     "name": "stderr",
     "output_type": "stream",
     "text": [
      "#0 building with \"default\" instance using docker driver\n",
      "\n",
      "#1 [internal] load .dockerignore\n",
      "#1 DONE 0.0s\n",
      "\n",
      "#2 [internal] load build definition from Dockerfile\n",
      "#2 DONE 0.0s\n",
      "\n",
      "#1 [internal] load .dockerignore\n",
      "#1 transferring context: 2B done\n",
      "#1 DONE 0.0s\n",
      "\n",
      "#2 [internal] load build definition from Dockerfile\n",
      "#2 transferring dockerfile: 589B done\n",
      "#2 DONE 0.0s\n",
      "\n",
      "#3 [internal] load metadata for docker.io/svizor/zoomcamp-model:3.10.12-slim\n",
      "#3 DONE 0.0s\n",
      "\n",
      "#4 [1/5] FROM docker.io/svizor/zoomcamp-model:3.10.12-slim\n",
      "#4 DONE 0.0s\n",
      "\n",
      "#5 [internal] load build context\n",
      "#5 transferring context: 146B done\n",
      "#5 DONE 0.0s\n",
      "\n",
      "#6 [2/5] WORKDIR /app\n",
      "#6 CACHED\n",
      "\n",
      "#7 [3/5] COPY Pipfile Pipfile.lock /app/\n",
      "#7 CACHED\n",
      "\n",
      "#8 [4/5] RUN pip install pipenv && pipenv install --deploy --ignore-pipfile\n",
      "#8 CACHED\n",
      "\n",
      "#9 [5/5] COPY model.py model1.bin dv.bin /app/\n",
      "#9 CACHED\n",
      "\n",
      "#10 exporting to image\n",
      "#10 exporting layers done\n",
      "#10 writing image sha256:9fe93cec8ac7bbb6c9945df0e308b83bd2bf9eb61c0c14578d21ff1ee85de42b done\n",
      "#10 naming to docker.io/library/mlzoomcampwkt5:project\n",
      "#10 naming to docker.io/library/mlzoomcampwkt5:project 0.2s done\n",
      "#10 DONE 0.2s\n",
      "\n",
      "What's Next?\n",
      "  View a summary of image vulnerabilities and recommendations → docker scout quickview\n"
     ]
    }
   ],
   "source": [
    "!docker build -t mlzoomcampwkt5:project ."
   ]
  },
  {
   "cell_type": "code",
   "execution_count": 131,
   "metadata": {},
   "outputs": [
    {
     "name": "stderr",
     "output_type": "stream",
     "text": [
      "the input device is not a TTY.  If you are using mintty, try prefixing the command with 'winpty'\n"
     ]
    }
   ],
   "source": [
    "#!winpty docker run -it -p 8000:8000 mlzoomcampwkt5:latest\n",
    "#!docker run -it -p 8081:8081 mlzoomcampwkt5:project  run in WSL for this part"
   ]
  },
  {
   "cell_type": "markdown",
   "metadata": {},
   "source": [
    "### Question 6"
   ]
  },
  {
   "cell_type": "code",
   "execution_count": 133,
   "metadata": {},
   "outputs": [
    {
     "data": {
      "text/plain": [
       "{'probability': 0.9019309332297606}"
      ]
     },
     "execution_count": 133,
     "metadata": {},
     "output_type": "execute_result"
    }
   ],
   "source": [
    "url = \"http://localhost:8081/predict\"\n",
    "client = {\"job\": \"retired\", \"duration\": 445, \"poutcome\": \"success\"}\n",
    "requests.post(url, json=client).json()"
   ]
  }
 ],
 "metadata": {
  "kernelspec": {
   "display_name": "Python 3",
   "language": "python",
   "name": "python3"
  },
  "language_info": {
   "codemirror_mode": {
    "name": "ipython",
    "version": 3
   },
   "file_extension": ".py",
   "mimetype": "text/x-python",
   "name": "python",
   "nbconvert_exporter": "python",
   "pygments_lexer": "ipython3",
   "version": "3.10.4"
  },
  "orig_nbformat": 4
 },
 "nbformat": 4,
 "nbformat_minor": 2
}
